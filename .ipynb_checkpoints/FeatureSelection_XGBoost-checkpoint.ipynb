{
 "cells": [
  {
   "cell_type": "code",
   "execution_count": 8,
   "metadata": {},
   "outputs": [],
   "source": [
    "import tensorflow as tf\n",
    "import numpy as np\n",
    "import pandas as pd\n",
    "import matplotlib.pyplot as plt\n",
    "from xgboost import XGBRegressor\n",
    "from sklearn.preprocessing import StandardScaler\n",
    "from sklearn.model_selection import ShuffleSplit\n",
    "from sklearn import feature_selection\n",
    "from sklearn.model_selection import cross_validate\n",
    "import seaborn as sns\n",
    "import pickle\n",
    "%matplotlib inline"
   ]
  },
  {
   "cell_type": "code",
   "execution_count": 9,
   "metadata": {},
   "outputs": [],
   "source": [
    "# Read the train and test datasets\n",
    "df_train = pd.read_csv(\"dataset/train_poly.csv\")\n",
    "df_test = pd.read_csv(\"dataset/test_poly.csv\")\n",
    "\n",
    "cols_train = df_train.columns.tolist()\n",
    "cols_test = df_test.columns.tolist()\n",
    "\n",
    "# Train the model with columns that exist both in train and test set\n",
    "cols_to_train = [col for col in cols_train if col in cols_test]\n",
    "cols_to_train.remove('Id')"
   ]
  },
  {
   "cell_type": "code",
   "execution_count": 10,
   "metadata": {},
   "outputs": [],
   "source": [
    "X_train_i = df_train[cols_to_train]\n",
    "Y_train = df_train['SalePrice']\n",
    "X_test_i = df_test[cols_to_train]\n",
    "X_Id = df_test['Id']"
   ]
  },
  {
   "cell_type": "code",
   "execution_count": 11,
   "metadata": {},
   "outputs": [],
   "source": [
    "scaler = StandardScaler()\n",
    "X_train = scaler.fit_transform(X_train_i)\n",
    "X_test = scaler.transform(X_test_i)"
   ]
  },
  {
   "cell_type": "code",
   "execution_count": 12,
   "metadata": {},
   "outputs": [
    {
     "name": "stdout",
     "output_type": "stream",
     "text": [
      "Training(+validation) set shape : (1448, 244)\n",
      "Y_train shape : (1448,)\n",
      "Test set shape : (1459, 244)\n"
     ]
    }
   ],
   "source": [
    "print(\"Training(+validation) set shape : {}\".format(X_train.shape))\n",
    "print(\"Y_train shape : {}\".format(Y_train.shape))\n",
    "print(\"Test set shape : {}\".format(X_test.shape))"
   ]
  },
  {
   "cell_type": "code",
   "execution_count": 13,
   "metadata": {},
   "outputs": [],
   "source": [
    "model = XGBRegressor(colsample_bytree= 0.7, gamma= 0, learning_rate= 0.01, max_depth= 3, \\\n",
    "                      min_child_weight= 0, n_estimators= 5000, nthread= -1, \\\n",
    "                      objective= 'reg:squarederror', reg_alpha= 6e-05, scale_pos_weight= 1,\\\n",
    "                      seed= 27, subsample= 0.7)\n",
    "cv_split = ShuffleSplit(n_splits = 10, test_size = .20, train_size = .80, random_state = 0 )"
   ]
  },
  {
   "cell_type": "code",
   "execution_count": null,
   "metadata": {},
   "outputs": [],
   "source": [
    "model_rfe = feature_selection.RFECV(model, step = 1, scoring = 'neg_mean_absolute_error', \\\n",
    "                                    cv = cv_split)\n",
    "model_rfe.fit(X_train, Y_train)"
   ]
  },
  {
   "cell_type": "code",
   "execution_count": null,
   "metadata": {},
   "outputs": [],
   "source": [
    "X_rfe = X_train_i.columns.values[model_rfe.get_support()]\n",
    "\n",
    "pickle_out = open(\"X_rfe_poly.pickle\",\"wb\")\n",
    "pickle.dump(X_rfe, pickle_out)\n",
    "pickle_out.close()"
   ]
  },
  {
   "cell_type": "code",
   "execution_count": null,
   "metadata": {},
   "outputs": [],
   "source": [
    "pickle_in = open(\"X_rfe_poly.pickle\",\"rb\")\n",
    "X_rfe = pickle.load(pickle_in)"
   ]
  },
  {
   "cell_type": "code",
   "execution_count": null,
   "metadata": {},
   "outputs": [],
   "source": [
    "scaler = StandardScaler()\n",
    "X_train_fs = scaler.fit_transform(X_train_i[X_rfe])\n",
    "X_test_fs = scaler.transform(X_test_i[X_rfe])\n",
    "\n",
    "# X_train_fs = np.zeros((X_train.shape[0],1))\n",
    "# X_test_fs = np.zeros((X_test.shape[0],1))\n",
    "# for idx,r in enumerate(model_rfe.get_support()):\n",
    "#     if(r):\n",
    "#         X_train_fs = np.concatenate([X_train_fs,X_train[:,idx].reshape(X_train.shape[0],1)],axis=1)\n",
    "#         X_test_fs = np.concatenate([X_test_fs,X_test[:,idx].reshape(X_test.shape[0],1)],axis=1)\n",
    "# X_train_fs = X_train_fs[:,1:]\n",
    "# X_test_fs = X_test_fs[:,1:]"
   ]
  },
  {
   "cell_type": "code",
   "execution_count": null,
   "metadata": {},
   "outputs": [],
   "source": [
    "print(\"Training(+validation) set shape : {}\".format(X_train_fs.shape))\n",
    "print(\"Y_train shape : {}\".format(Y_train.shape))\n",
    "print(\"Test set shape : {}\".format(X_test_fs.shape))"
   ]
  },
  {
   "cell_type": "code",
   "execution_count": null,
   "metadata": {},
   "outputs": [],
   "source": [
    "cv_results = cross_validate(model, X_train, Y_train, cv = cv_split,return_train_score=\\\n",
    "                                             True, scoring='neg_mean_absolute_error')\n",
    "print(\"Without feature selection: \")\n",
    "print(\"Mean train score = {}\".format(cv_results['train_score'].mean()))\n",
    "print(\"Mean validation score = {}\".format(cv_results['test_score'].mean()))"
   ]
  },
  {
   "cell_type": "code",
   "execution_count": null,
   "metadata": {
    "scrolled": true
   },
   "outputs": [],
   "source": [
    "cv_results = cross_validate(model, X_train_fs, Y_train, cv = cv_split,return_train_score=\\\n",
    "                                             True, scoring='neg_mean_absolute_error')\n",
    "print(\"With feature selection: \")\n",
    "print(\"Mean train score = {}\".format(cv_results['train_score'].mean()))\n",
    "print(\"Mean validation score = {}\".format(cv_results['test_score'].mean()))"
   ]
  },
  {
   "cell_type": "code",
   "execution_count": null,
   "metadata": {},
   "outputs": [],
   "source": [
    "model.fit(X_train_fs, Y_train)\n",
    "preds_train = model.predict(X_train_fs)\n",
    "preds_test = model.predict(X_test_fs)\n",
    "\n",
    "result = pd.DataFrame({\n",
    "    'Id':X_Id,\n",
    "    'SalePrice':preds_test\n",
    "})\n",
    "\n",
    "result.to_csv(\"dataset/result_xgb_RFE_poly.csv\",index=False)"
   ]
  },
  {
   "cell_type": "code",
   "execution_count": 9,
   "metadata": {},
   "outputs": [],
   "source": [
    "# TODO:\n",
    "\n",
    "#     2. Grid Search\n",
    "#     3. Improve ordinal variables\n",
    "\n",
    "\n",
    "#     6. Regularization"
   ]
  }
 ],
 "metadata": {
  "kernelspec": {
   "display_name": "Python 3",
   "language": "python",
   "name": "python3"
  },
  "language_info": {
   "codemirror_mode": {
    "name": "ipython",
    "version": 3
   },
   "file_extension": ".py",
   "mimetype": "text/x-python",
   "name": "python",
   "nbconvert_exporter": "python",
   "pygments_lexer": "ipython3",
   "version": "3.7.4"
  }
 },
 "nbformat": 4,
 "nbformat_minor": 2
}
